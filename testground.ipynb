{
 "cells": [
  {
   "cell_type": "code",
   "execution_count": 19,
   "id": "8e480ef7-672b-48be-b951-a736b06aa1e8",
   "metadata": {},
   "outputs": [
    {
     "name": "stdout",
     "output_type": "stream",
     "text": [
      "1/1 [==============================] - 0s 139ms/step\n",
      "1/1 [==============================] - 0s 113ms/step\n",
      "1/1 [==============================] - 0s 25ms/step\n",
      "1/1 [==============================] - 0s 20ms/step\n",
      "1/1 [==============================] - 0s 18ms/step\n",
      "1/1 [==============================] - 0s 18ms/step\n",
      "1/1 [==============================] - 0s 18ms/step\n",
      "1/1 [==============================] - 0s 18ms/step\n",
      "1/1 [==============================] - 0s 17ms/step\n",
      "1/1 [==============================] - 0s 16ms/step\n",
      "1/1 [==============================] - 0s 17ms/step\n",
      "1/1 [==============================] - 0s 17ms/step\n",
      "10/10 [==============================] - 0s 3ms/step\n",
      "2/2 [==============================] - 0s 15ms/step\n",
      "1/1 [==============================] - 0s 66ms/step\n",
      "1/1 [==============================] - 0s 39ms/step\n",
      "1/1 [==============================] - 0s 24ms/step\n",
      "1/1 [==============================] - 0s 20ms/step\n",
      "1/1 [==============================] - 0s 19ms/step\n",
      "1/1 [==============================] - 0s 17ms/step\n",
      "1/1 [==============================] - 0s 18ms/step\n",
      "1/1 [==============================] - 0s 17ms/step\n",
      "1/1 [==============================] - 0s 17ms/step\n",
      "1/1 [==============================] - 0s 17ms/step\n",
      "1/1 [==============================] - 0s 17ms/step\n",
      "1/1 [==============================] - 0s 16ms/step\n",
      "10/10 [==============================] - 0s 3ms/step\n",
      "2/2 [==============================] - 0s 14ms/step\n"
     ]
    },
    {
     "data": {
      "text/plain": [
       "[{'box': [926, 296, 44, 56],\n",
       "  'confidence': 0.9999957084655762,\n",
       "  'keypoints': {'left_eye': (932, 319),\n",
       "   'right_eye': (948, 315),\n",
       "   'nose': (936, 329),\n",
       "   'mouth_left': (936, 341),\n",
       "   'mouth_right': (951, 337)}},\n",
       " {'box': [801, 298, 46, 57],\n",
       "  'confidence': 0.9999920129776001,\n",
       "  'keypoints': {'left_eye': (811, 321),\n",
       "   'right_eye': (832, 318),\n",
       "   'nose': (822, 330),\n",
       "   'mouth_left': (816, 343),\n",
       "   'mouth_right': (833, 340)}},\n",
       " {'box': [402, 294, 54, 65],\n",
       "  'confidence': 0.9999908208847046,\n",
       "  'keypoints': {'left_eye': (420, 320),\n",
       "   'right_eye': (443, 318),\n",
       "   'nose': (434, 330),\n",
       "   'mouth_left': (425, 344),\n",
       "   'mouth_right': (444, 343)}},\n",
       " {'box': [208, 274, 59, 69],\n",
       "  'confidence': 0.9999898672103882,\n",
       "  'keypoints': {'left_eye': (228, 298),\n",
       "   'right_eye': (256, 300),\n",
       "   'nose': (244, 316),\n",
       "   'mouth_left': (229, 327),\n",
       "   'mouth_right': (251, 327)}},\n",
       " {'box': [565, 282, 45, 60],\n",
       "  'confidence': 0.999981164932251,\n",
       "  'keypoints': {'left_eye': (578, 306),\n",
       "   'right_eye': (599, 307),\n",
       "   'nose': (588, 316),\n",
       "   'mouth_left': (580, 329),\n",
       "   'mouth_right': (595, 330)}},\n",
       " {'box': [1117, 293, 51, 66],\n",
       "  'confidence': 0.9999738931655884,\n",
       "  'keypoints': {'left_eye': (1130, 319),\n",
       "   'right_eye': (1154, 318),\n",
       "   'nose': (1140, 330),\n",
       "   'mouth_left': (1131, 342),\n",
       "   'mouth_right': (1153, 342)}},\n",
       " {'box': [1349, 281, 61, 75],\n",
       "  'confidence': 0.9999438524246216,\n",
       "  'keypoints': {'left_eye': (1361, 308),\n",
       "   'right_eye': (1389, 307),\n",
       "   'nose': (1372, 322),\n",
       "   'mouth_left': (1362, 338),\n",
       "   'mouth_right': (1386, 338)}},\n",
       " {'box': [680, 313, 41, 52],\n",
       "  'confidence': 0.999563992023468,\n",
       "  'keypoints': {'left_eye': (690, 331),\n",
       "   'right_eye': (710, 331),\n",
       "   'nose': (700, 342),\n",
       "   'mouth_left': (692, 352),\n",
       "   'mouth_right': (709, 352)}}]"
      ]
     },
     "execution_count": 19,
     "metadata": {},
     "output_type": "execute_result"
    }
   ],
   "source": [
    "import cv2\n",
    "from mtcnn import MTCNN\n",
    "import matplotlib.pyplot as plt\n",
    "\n",
    "# Load the image\n",
    "imagePath = 'C:/Users/User4/PycharmProjects/eTanuReincarnationAPI/metadata/data/bugs/1000.jpeg'\n",
    "img = cv2.imread(imagePath)\n",
    "img_rgb = cv2.cvtColor(img, cv2.COLOR_BGR2RGB)\n",
    "\n",
    "# Initialize the MTCNN detector\n",
    "detector = MTCNN()\n",
    "\n",
    "# Detect faces\n",
    "faces = detector.detect_faces(img_rgb)\n",
    "detector.detect_faces(img_rgb)"
   ]
  },
  {
   "cell_type": "code",
   "execution_count": null,
   "id": "58e0514c-a6c3-4fc9-ac99-472c4fb9a290",
   "metadata": {},
   "outputs": [],
   "source": [
    "for face in faces:\n",
    "    x, y, width, height = face['box']\n",
    "    cv2.rectangle(img_rgb, (x, y), (x+width, y+height), (255, 0, 0), 2)\n",
    "\n",
    "# Convert back to BGR for displaying with OpenCV\n",
    "img_bgr = cv2.cvtColor(img_rgb, cv2.COLOR_RGB2BGR)\n",
    "\n",
    "# Display the image with bounding boxes\n",
    "cv2.imshow('Faces Detected', img_bgr)\n",
    "cv2.waitKey(0)\n",
    "cv2.destroyAllWindows()"
   ]
  },
  {
   "cell_type": "code",
   "execution_count": null,
   "id": "ff64a995-e27c-4061-946b-8971910b71df",
   "metadata": {},
   "outputs": [],
   "source": []
  }
 ],
 "metadata": {
  "kernelspec": {
   "display_name": "Python 3 (ipykernel)",
   "language": "python",
   "name": "python3"
  },
  "language_info": {
   "codemirror_mode": {
    "name": "ipython",
    "version": 3
   },
   "file_extension": ".py",
   "mimetype": "text/x-python",
   "name": "python",
   "nbconvert_exporter": "python",
   "pygments_lexer": "ipython3",
   "version": "3.11.7"
  }
 },
 "nbformat": 4,
 "nbformat_minor": 5
}
